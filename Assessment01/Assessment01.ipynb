{
 "cells": [
  {
   "cell_type": "markdown",
   "id": "f92fbbd2-b399-4864-bf88-31c7b7291c53",
   "metadata": {},
   "source": [
    "<div>\n",
    "<span style=\"display: block; font-size: 2em; color: blue; text-align: center; font-weight: bold; \">DSB💯 Fundamentals of Data Science</span>\n",
    "<span style=\"display: block; font-size: 1.5em; color: orange; text-align: center\">Assessment01. Semester 2, 2022.<br>Holiday reading edition</span>\n",
    "\n",
    "<ul style=\"font-size: 1em; color: green; text-align: center; list-style-type: none; margin: 0; padding: 0\">\n",
    "<li>Student name: Ryan Indrananda </li>\n",
    "<li>Student number: 10852565</li>\n",
    "</ul>\n",
    "</div>"
   ]
  },
  {
   "cell_type": "markdown",
   "id": "3a960501-72e6-4d9c-b186-4c15a42d1a9a",
   "metadata": {
    "tags": []
   },
   "source": [
    "# Instructions"
   ]
  },
  {
   "cell_type": "markdown",
   "id": "43ccb432-ae6c-419a-a27b-bd18c5bc3b39",
   "metadata": {
    "tags": []
   },
   "source": [
    "## 📚 The story so far..."
   ]
  },
  {
   "cell_type": "markdown",
   "id": "fdd89c53-224d-455f-8d8c-74f280991556",
   "metadata": {
    "tags": []
   },
   "source": [
    "* You are just about to go on holiday, and plan to book a place to stay through [Airbnb](https://en.wikipedia.org/wiki/Airbnb)\n",
    "* Knowing how much you love puzzles, your friend has given you some holiday reading in the form of [Cain's Jawbone](https://en.wikipedia.org/wiki/Cain%27s_Jawbone)\n",
    "    * This book is a murder mystery puzzle written in 1934 by [Edward Powys Mathers](http://www.crossword.org.uk/mathers.htm) under the pseudonym \"Torquemada\".\n",
    "    * The original introduction reads:\n",
    "\n",
    "> _Cain’s Jawbone, the bald narrative of a series of tragic happenings during a period of less than six months in a recent year, has met with an accident which seems to be unique in the history of the novelette. The pages have been printed in an entirely haphazard and incorrect order, a fact which reflects little credit on somebody. The author assures his readers, however, that while it is now too late for him to remedy the ordering of the pages, it is quite possible for them, should they care to take the trouble, to reorder them correctly for themselves. Before they attempt to do this, they may care to be assured that there is an inevitable order, the one in which the pages were written, and that, while the narrator’s mind may flit occasionally backwards and forwards in the modern manner, the narrative marches on, relentlessly and unequivocally, from the first page to the last._\n",
    "\n",
    "* Your friend has sent you this book in digital form and suggested that you might use your data science skills to crack it\n",
    "    * [There is a prize](https://www.theguardian.com/books/2021/nov/23/cain-enabled-tiktok-helps-reissued-literary-puzzle-fly-off-the-shelves) for getting the pages in the correct order and giving the full names of the six persons murdered and the full names of their murderers\n",
    "    * You decide to have a go using your command-line powers to solve the mystery (i.e., get the pages in the right order and identify the murderers) \n",
    "* Questions 1-4 are all about analysing this text\n",
    "* Question 5 is about the ethics of Airbnb's use of data\n",
    "* Question 6 is about correctly preparing and submitting this Assessment"
   ]
  },
  {
   "cell_type": "markdown",
   "id": "85a2c246-9e41-48e9-997a-ed5a86dabf06",
   "metadata": {
    "tags": []
   },
   "source": [
    "## 📢 About this Assessment item"
   ]
  },
  {
   "cell_type": "markdown",
   "id": "7a666d47-c253-4b16-bc0e-02b4c1fcf666",
   "metadata": {
    "tags": []
   },
   "source": [
    "* This individual assignment is designed to evaluate, among other things, your abilities to\n",
    "    *  apply your data manipulation knowledge and skills on real datasets\n",
    "    *  read, interpret and follow instructions about working with data\n",
    "    *  identify and explain critical ethical issues in data science scenarios\n",
    "    *  look things up and figure things out.\n",
    "        * Note that **Blackboard/References** provides advice and useful references for looking things up\n",
    "* Details about the weighting and due date can be found at **Blackboard/Assessment01**\n",
    "* We have attempted to make this Assessment perfect\n",
    "    * However, because we are running it for the first (and last!) time we may need to make corrections\n",
    "    * Any corrections or clarifications will be published in **Blackboard/Assessment01/Errata** "
   ]
  },
  {
   "cell_type": "markdown",
   "id": "32f673ed-837d-4e52-8035-e38161f6db4b",
   "metadata": {
    "tags": []
   },
   "source": [
    "## 📩 How to submit this Assessment item"
   ]
  },
  {
   "cell_type": "markdown",
   "id": "a73611f6-f6b0-4710-a5a6-0a3412c97a61",
   "metadata": {
    "tags": []
   },
   "source": [
    "* When working on this portfolio item, make sure you work in a new empty folder and in your Jupyter environment.\n",
    "    * Edit your solutions into this file `Assessment01.ipynb`\n",
    "    * We will run this file to mark your solutions\n",
    "* Question 6 explains exactly what you must submit and how\n",
    "    * Upload your submission via **Blackboard/Assessment01**\n",
    "    * You are encouraged to make multiple submissions as evidence of your progress that we can take into account if there are any unexpected issues with your final submission"
   ]
  },
  {
   "cell_type": "markdown",
   "id": "9fec7e50-56c3-430a-abf8-99556bf7e13e",
   "metadata": {
    "tags": []
   },
   "source": [
    "## 😎 How to succeed with this Assessment item"
   ]
  },
  {
   "cell_type": "markdown",
   "id": "30ef3163-418d-4b06-bee2-e7f1407602cc",
   "metadata": {
    "tags": []
   },
   "source": [
    "* We expect you to answer all questions.\n",
    "    * Remember, the more you give us, the more opportunity we have to award marks\n",
    "        * A partial attempt is better than nothing\n",
    "    * If you are encountering difficult circumstances, [here is information about applying for an extension ](https://ask.qut.edu.au/app/answers/detail/a_id/217/~/how-do-i-apply-for-an-extension-on-my-assignment%3F)\n",
    "        * Note that it is QUT (not the DSB100 Teaching Team) who assesses extension requests\n",
    "* We will release your marks on Blackboard as soon as we have received, marked and moderated all submissions, including extensions"
   ]
  },
  {
   "cell_type": "markdown",
   "id": "5dfcb98c-7e6b-4f44-9f18-d6819707c795",
   "metadata": {
    "tags": []
   },
   "source": [
    "## 🛠️ Work in a new directory, using relative file names"
   ]
  },
  {
   "cell_type": "markdown",
   "id": "c27aa979-0cae-4a87-bd22-01b7c6c9469f",
   "metadata": {
    "tags": []
   },
   "source": [
    "* Uncompress your Assessment files in a newly created directory\n",
    "* Refer to files using names relative to the location of this Jupyter Notebook, e.g., `./data`, `../rawdata`\n",
    "    * This will mean that the Teaching Team can run your submission in a new location\n",
    "    * Other than files in `/tmp` ([which is meant for storing temporary files](https://unix.stackexchange.com/a/30504/427919)), do not use file names that refer to _absolute_ locations (e.g., `/` or `~`) "
   ]
  },
  {
   "cell_type": "markdown",
   "id": "6fb868cb-922a-4ddb-ad66-85f1466dd191",
   "metadata": {
    "tags": []
   },
   "source": [
    "## 🏡 Work from home! "
   ]
  },
  {
   "cell_type": "markdown",
   "id": "83bbdd4f-d5ab-48e3-85e0-2a0c407edf9d",
   "metadata": {
    "tags": []
   },
   "source": [
    "* Don't change your working directory\n",
    "    * This helps ensure that each cell in your notebook can be run without necessarily having to start from the top"
   ]
  },
  {
   "cell_type": "markdown",
   "id": "1fae37dc-925c-48e2-a474-ddc15cebb78c",
   "metadata": {
    "tags": []
   },
   "source": [
    "## 🧹 Start with a clean environment"
   ]
  },
  {
   "cell_type": "markdown",
   "id": "6eba931f-8dec-4fdb-988c-5ef8d0f1f8d1",
   "metadata": {
    "tags": []
   },
   "source": [
    "* It is good practice to make sure that our code runs in a \"clean\" environment\n",
    "    * Here \"clean\" means free from files and directories that are older than the code we are working on\n",
    "    * Working in a clean environment means that our code runs from a well-defined initial state\n",
    "    * If we forget to do this, it is easy to create code that relies on files or directories that we have left lying around\n",
    "        * This code will fail when we give our code to someone else to run in their clean environment\n",
    "* One simple way to ensure we start in a clean environment is to remove everything other than the code files we are working on\n",
    "    * There are fancier ways to do this, but the following command clearly shows what is going on"
   ]
  },
  {
   "cell_type": "code",
   "execution_count": 71,
   "id": "f5b3f979-0325-4baa-b736-6a37b872ac38",
   "metadata": {
    "tags": []
   },
   "outputs": [
    {
     "name": "stdout",
     "output_type": "stream",
     "text": [
      "\n",
      "# The following files are being deleted\n",
      "./index/CainsJawbone.index\t\t ./rawpage/048\t\t\t\t  ./rawpage/027\n",
      "./index\t\t\t\t\t ./rawpage/066\t\t\t\t  ./rawpage/063\n",
      "./rawdata/CainsJawbone.2\t\t ./rawpage/011\t\t\t\t  ./rawpage/032\n",
      "./rawdata/CainsJawbone.4\t\t ./rawpage/002\t\t\t\t  ./rawpage/014\n",
      "./rawdata/CainsJawbone.3\t\t ./rawpage/099\t\t\t\t  ./rawpage/050\n",
      "./rawdata/CainsJawbone.1\t\t ./rawpage/020\t\t\t\t  ./rawpage/005\n",
      "./rawdata\t\t\t\t ./rawpage/073\t\t\t\t  ./rawpage/041\n",
      "./Q1-5.txt\t\t\t\t ./rawpage/037\t\t\t\t  ./rawpage/023\n",
      "./data/CainsJawbone.pdf\t\t\t ./rawpage/091\t\t\t\t  ./rawpage/076\n",
      "./data/.ipynb_checkpoints\t\t ./rawpage/019\t\t\t\t  ./rawpage/094\n",
      "\n",
      "# Now, the only file left should be\n",
      "# Assessment01.master.ipynb\n",
      "ls -F\n",
      "Assessment01.ipynb\n"
     ]
    }
   ],
   "source": [
    "printf \"\\n# The following files are being deleted\\n\"\n",
    "find .                 `# Starting from the current directory \".\" find files that are` \\\n",
    "  -not -name *.ipynb   `# not named *.ipynb`                                           \\\n",
    "  -not -path .         `# not the current directory itself`                            \\\n",
    "  -print               `# print any matching files then...`                            \\\n",
    "  -delete              `# ...delete them`                                              |\\\n",
    "  fold -40             `# fold the output to 40 chars wide`                            |\\\n",
    "  pr -3 -w124 -T       `# print in 3 columns`                                          |\\\n",
    "  head\n",
    "\n",
    "printf \"\\n# Now, the only file left should be\\n\"\n",
    "printf \"# Assessment01.master.ipynb\\nls -F\\n\"\n",
    "ls -F"
   ]
  },
  {
   "cell_type": "markdown",
   "id": "d3ac605b-765a-4f7b-9c2d-c4c646007555",
   "metadata": {
    "tags": []
   },
   "source": [
    "<div class=\"alert alert-success\">\n",
    "    \n",
    "* Note that we commented the `find` command and split it over six lines to make it easier to read and understand\n",
    "    * The `\\` at the very end of the line tells the shell to expect more input\n",
    "    * We've had to put the comments inside backticks (`` ` ` ``) so that the shell interprets the comments as commands\n",
    "        * Without this, the comment character `#` would comment out the rest of the line\n",
    "    * How on earth did we know how to do this? [We looked it up, and figured it out](https://stackoverflow.com/questions/1455988/commenting-in-a-bash-script-inside-a-multiline-command)\n",
    "</div>"
   ]
  },
  {
   "cell_type": "markdown",
   "id": "c31f3054-c989-4dba-9825-39bd5baa5e4e",
   "metadata": {
    "tags": []
   },
   "source": [
    "## 🏃 Run from the top"
   ]
  },
  {
   "cell_type": "markdown",
   "id": "ebff431f-935f-4f72-ab6a-b046b41f4f36",
   "metadata": {
    "tags": []
   },
   "source": [
    "* Get into the habit of running all cells your Notebook so that you know your code can run from the top, without error\n",
    "    * You don't have to do this every time you make a change to your code\n",
    "    * But when you think you have got a question sorted, go to the **Run** menu and click **Run All Cells**    "
   ]
  },
  {
   "cell_type": "markdown",
   "id": "22dbd275-6760-4b93-b7ee-61dc58e71251",
   "metadata": {
    "tags": []
   },
   "source": [
    "## 🛑 Limit the amount of output your commands produce"
   ]
  },
  {
   "cell_type": "markdown",
   "id": "85f31f15-7198-411b-8d4a-9c447e03a8cc",
   "metadata": {
    "tags": []
   },
   "source": [
    "* It is very easy to write and run commands that produce many, many lines of output\n",
    "    * Please don't!\n",
    "    * Or at least, please don't do that in your Jupyter Notebook\n",
    "        * If you do, you can cause the notebook to hang as the operating system belches more and more output into it\n",
    "    * If you want to _try_ a command that might produce a lot of output, open up a terminal window and run the command there\n",
    "        * You should be able to interrupt the command by typing `Ctrl-C` or shutting the terminal window\n",
    "    * As explained in Question 6, **you will lose marks if your commands produce more output that you need to reasonably demonstrate their correct working**"
   ]
  },
  {
   "cell_type": "markdown",
   "id": "5b3f0afe-a631-4bee-b303-215888378b26",
   "metadata": {
    "tags": []
   },
   "source": [
    "----\n",
    "# Questions"
   ]
  },
  {
   "cell_type": "markdown",
   "id": "04fd1790-89e0-49d9-a5d0-b2eedcd41796",
   "metadata": {
    "tags": []
   },
   "source": [
    "## ❔ Question 1 (8 marks)"
   ]
  },
  {
   "cell_type": "markdown",
   "id": "6e0b3158-2d31-45e3-99d9-3817a6501885",
   "metadata": {
    "tags": []
   },
   "source": [
    "### Background"
   ]
  },
  {
   "cell_type": "markdown",
   "id": "9101b539-5910-4290-98da-d7f8a2416fcc",
   "metadata": {
    "tags": []
   },
   "source": [
    "This question focuses on organising your primary data for analysis, and exploring the ASCII and non-ASCII characters in these files."
   ]
  },
  {
   "cell_type": "markdown",
   "id": "475d5dd1-5018-4161-8125-7b8fdfe691f1",
   "metadata": {
    "tags": []
   },
   "source": [
    "### Q1.1 (1 mark)"
   ]
  },
  {
   "cell_type": "markdown",
   "id": "09409c2b-9eb6-4fb3-80c3-03440f99486e",
   "metadata": {
    "tags": []
   },
   "source": [
    "* Your friend has given you four files containing different electronic versions of Cain's Jawbone in the directory `../rawdata`  \n",
    "\n",
    "1. Demonstrate a single command to list the names of these files.                              <div style=\"text-align: right\">(½ mark)</div>"
   ]
  },
  {
   "cell_type": "code",
   "execution_count": 72,
   "id": "d1058f50-e489-4c37-a8f2-dbb5d8eb577e",
   "metadata": {
    "tags": []
   },
   "outputs": [
    {
     "name": "stdout",
     "output_type": "stream",
     "text": [
      "CainsJawbone.2\n",
      "CainsJawbone.4\n",
      "CainsJawbone.3\n",
      "CainsJawbone.1\n"
     ]
    }
   ],
   "source": [
    "# Write your solution here\n",
    "find ../rawdata -type f -printf '%f\\n'"
   ]
  },
  {
   "cell_type": "markdown",
   "id": "b689b601-bd3e-495e-92f0-c1a71b15d15f",
   "metadata": {
    "tags": []
   },
   "source": [
    "2. Demonstrate a single command to list the file permissions, number of links, \n",
    "    owner, group, file size, time of last modification and names of these files.       <div style=\"text-align: right\">(½ mark)</div>"
   ]
  },
  {
   "cell_type": "code",
   "execution_count": 73,
   "id": "b3e005fa-bfed-475a-9448-15eb817c60e8",
   "metadata": {
    "tags": []
   },
   "outputs": [
    {
     "name": "stdout",
     "output_type": "stream",
     "text": [
      "total 1792\n",
      "-rw-r--r-- 1 n10852565 n10852565 957740 Aug  7 12:15 CainsJawbone.1\n",
      "-rw-r--r-- 1 n10852565 n10852565  95294 Aug  7 12:15 CainsJawbone.2\n",
      "-rw-r--r-- 1 n10852565 n10852565 336714 Aug  7 12:15 CainsJawbone.3\n",
      "-rw-r--r-- 1 n10852565 n10852565 436944 Aug  7 12:15 CainsJawbone.4\n"
     ]
    }
   ],
   "source": [
    "# Write your solution here\n",
    "\n",
    "ls ../rawdata -l"
   ]
  },
  {
   "cell_type": "markdown",
   "id": "959f189a-447a-411a-bb9f-e5cfceb542e0",
   "metadata": {
    "tags": []
   },
   "source": [
    "### Q1.2 (1 mark)"
   ]
  },
  {
   "cell_type": "markdown",
   "id": "a2f9f9fd-559a-4321-83e2-3f87abebd569",
   "metadata": {
    "jp-MarkdownHeadingCollapsed": true,
    "tags": []
   },
   "source": [
    "* Data, especially [rawdata, or primary data](https://en.wikipedia.org/wiki/Raw_data) can be irreplaceable and invaluable\n",
    "* This question is about protecting the rawdata data you will be working with by\n",
    "    * Making a copy of those files to work with\n",
    "    * Changing the [permissions](https://www.guru99.com/file-permissions.html) on files to make them harder to accidentally delete or overwrite"
   ]
  },
  {
   "cell_type": "markdown",
   "id": "7866acb5-466f-437a-8373-301ea5b505ef",
   "metadata": {
    "tags": []
   },
   "source": [
    "1. Demonstrate commands to\n",
    "    * create a directory `./rawdata` containing copies of all the files in `../rawdata`\n",
    "        * (Make sure you understand what these two different folders mean)\n",
    "    * then show those copied files and their permissions.                                <div style=\"text-align: right\">(½ mark)</div>"
   ]
  },
  {
   "cell_type": "code",
   "execution_count": 74,
   "id": "d39fffa0-0404-4e4b-8709-56743708d6f2",
   "metadata": {
    "tags": []
   },
   "outputs": [
    {
     "name": "stdout",
     "output_type": "stream",
     "text": [
      "total 1792\n",
      "-rw-r--r-- 1 n10852565 n10852565 957740 Sep  6 12:39 CainsJawbone.1\n",
      "-rw-r--r-- 1 n10852565 n10852565  95294 Sep  6 12:39 CainsJawbone.2\n",
      "-rw-r--r-- 1 n10852565 n10852565 336714 Sep  6 12:39 CainsJawbone.3\n",
      "-rw-r--r-- 1 n10852565 n10852565 436944 Sep  6 12:39 CainsJawbone.4\n"
     ]
    }
   ],
   "source": [
    "# Write your solution here\n",
    "\n",
    "mkdir -p ./rawdata\n",
    "cp ../rawdata/* ./rawdata\n",
    "cd rawdata/\n",
    "chmod u+w *\n",
    "ls -l\n",
    "cd .."
   ]
  },
  {
   "cell_type": "markdown",
   "id": "746c2dcf-7b28-4066-9e41-989b58b08d90",
   "metadata": {
    "tags": []
   },
   "source": [
    "1. Demonstrate commands to change the permissions of the files in `./rawdata` so that you cannot write over them;\n",
    "    then show the changed permissions. <div style=\"text-align: right\">(½ mark)</div> "
   ]
  },
  {
   "cell_type": "code",
   "execution_count": 75,
   "id": "c5e9e66c-2faa-4675-9a42-dacf76210a4c",
   "metadata": {
    "tags": []
   },
   "outputs": [
    {
     "name": "stdout",
     "output_type": "stream",
     "text": [
      "total 1792\n",
      "-r--r--r-- 1 n10852565 n10852565 957740 Sep  6 12:39 CainsJawbone.1\n",
      "-r--r--r-- 1 n10852565 n10852565  95294 Sep  6 12:39 CainsJawbone.2\n",
      "-r--r--r-- 1 n10852565 n10852565 336714 Sep  6 12:39 CainsJawbone.3\n",
      "-r--r--r-- 1 n10852565 n10852565 436944 Sep  6 12:39 CainsJawbone.4\n"
     ]
    }
   ],
   "source": [
    "# Write your solution here\n",
    "\n",
    "cd rawdata/\n",
    "chmod u-w *\n",
    "ls -l\n",
    "cd .."
   ]
  },
  {
   "cell_type": "markdown",
   "id": "4938d383-8cc9-4aa8-8b43-342a073f254f",
   "metadata": {
    "tags": []
   },
   "source": [
    "* **Check:** At the end of this question, `ls -CFR` should produce:\n",
    "\n",
    "```bash\n",
    ".:\n",
    "Assessment01.ipynb  rawdata/\n",
    "\n",
    "./rawdata:\n",
    "CainsJawbone.1  CainsJawbone.2  CainsJawbone.3  CainsJawbone.4\n",
    "```"
   ]
  },
  {
   "cell_type": "code",
   "execution_count": 76,
   "id": "fdff5f69-04cf-4259-8dfb-191a93e4730f",
   "metadata": {},
   "outputs": [
    {
     "name": "stdout",
     "output_type": "stream",
     "text": [
      ".:\n",
      "Assessment01.ipynb  rawdata/\n",
      "\n",
      "./rawdata:\n",
      "CainsJawbone.1  CainsJawbone.2  CainsJawbone.3  CainsJawbone.4\n"
     ]
    }
   ],
   "source": [
    "ls -CFR"
   ]
  },
  {
   "cell_type": "markdown",
   "id": "84cea657-96be-450b-9de4-833084531205",
   "metadata": {
    "tags": []
   },
   "source": [
    "### Q1.3 (2 marks)"
   ]
  },
  {
   "cell_type": "markdown",
   "id": "4787d47f-ff92-4b9b-a73a-3e92547874b5",
   "metadata": {
    "tags": []
   },
   "source": [
    "* Sometimes (like now!) we receive files whose contents are unknown or uncertain\n",
    "\n",
    "1. Demonstrate how to use `od` to see the first 128 bytes of `./rawdata/CainsJawbone.1` as ASCII     <div style=\"text-align: right\">(½ mark)</div>"
   ]
  },
  {
   "cell_type": "code",
   "execution_count": 77,
   "id": "5a4f2e16-1d37-4e03-95ca-0b88ce5d5eb6",
   "metadata": {
    "tags": []
   },
   "outputs": [
    {
     "name": "stdout",
     "output_type": "stream",
     "text": [
      "0000000   P   K 003 004 024  \\0  \\b  \\b  \\b  \\0 267 256 375   T  \\0  \\0\n",
      "0000016  \\0  \\0  \\0  \\0  \\0  \\0  \\0  \\0  \\0  \\0 024  \\0  \\0  \\0   p   p\n",
      "0000032   t   /   t   h   e   m   e   /   t   h   e   m   e   1   .   x\n",
      "0000048   m   l 355   Y   K   o 333   6 034 377 004 373 016 204 356 255\n",
      "0000064 374   R   b  \\a   u 212 274 334   l   I 332       N   ; 364   H\n",
      "0000080   K 264 304 232   \" 005 222   N 352 333 320 036  \\a  \\f 030 326\n",
      "0000096  \\r 273  \\f 330   m 207   a   [ 201 026 330 245 373   4 331   :\n",
      "0000112   l 035 220 257   0   R 222   m 322 246 363   h 323 255   @   +\n",
      "0000128\n"
     ]
    }
   ],
   "source": [
    "# Write your solution here\n",
    "\n",
    "od -c -N128 -Ad ./rawdata/CainsJawbone.1"
   ]
  },
  {
   "cell_type": "markdown",
   "id": "08e28c1e-5e57-4a35-b5d5-9223c0948934",
   "metadata": {
    "tags": []
   },
   "source": [
    "2. Demonstrate how to use `xxd` to see the first 128 bytes of `./rawdata/CainsJawbone.2`             <div style=\"text-align: right\">(½ mark)</div>"
   ]
  },
  {
   "cell_type": "code",
   "execution_count": 78,
   "id": "b8504612-3350-488e-870f-0b9202213a8e",
   "metadata": {
    "tags": []
   },
   "outputs": [
    {
     "name": "stdout",
     "output_type": "stream",
     "text": [
      "00000000: efbb bf49 2073 6974 2064 6f77 6e20 616c  ...I sit down al\n",
      "00000010: 6f6e 6520 6174 2074 6865 2061 7070 6f69  one at the appoi\n",
      "00000020: 6e74 6564 2074 6162 6c65 2061 6e64 2074  nted table and t\n",
      "00000030: 616b 6520 7570 206d 7920 7065 6e20 746f  ake up my pen to\n",
      "00000040: 2067 6976 6520 616c 6c20 7768 6f6d 2069   give all whom i\n",
      "00000050: 7420 6d61 7920 636f 6e63 6572 6e20 616e  t may concern an\n",
      "00000060: 2065 7861 6374 2061 6363 6f75 6e74 206f   exact account o\n",
      "00000070: 6620 7768 6174 206d 6179 2068 6170 7065  f what may happe\n"
     ]
    }
   ],
   "source": [
    "# Write your solution here\n",
    "\n",
    "xxd -l128 ./rawdata/CainsJawbone.2"
   ]
  },
  {
   "cell_type": "markdown",
   "id": "67c00bb2-55fd-4843-a546-f72780a311db",
   "metadata": {
    "tags": []
   },
   "source": [
    "3. Demonstrate how to use `file` to determine the file type of `./rawdata/CainsJawbone.3`            <div style=\"text-align: right\">(½ mark)</div>"
   ]
  },
  {
   "cell_type": "code",
   "execution_count": 79,
   "id": "d8d11cf0-b86f-4189-a4c5-3a5ed6b021e6",
   "metadata": {
    "tags": []
   },
   "outputs": [
    {
     "name": "stdout",
     "output_type": "stream",
     "text": [
      "./rawdata/CainsJawbone.3: OpenDocument Presentation\n"
     ]
    }
   ],
   "source": [
    "# Write your solution here\n",
    "\n",
    "file ./rawdata/CainsJawbone.3"
   ]
  },
  {
   "cell_type": "markdown",
   "id": "63c8819f-fd4a-453b-bc1d-b882f95fa023",
   "metadata": {
    "tags": []
   },
   "source": [
    "4. Demonstrate commands that copy each of the files listed in `ls ./rawdata/*.[0-9]` to files in `./data` with appropriate,\n",
    "meaningful extensions in place of their numeric suffixes. <div style=\"text-align: right\">(½ mark)</div>"
   ]
  },
  {
   "cell_type": "code",
   "execution_count": 80,
   "id": "a03d01b4-4ff6-4ec3-80a0-d0d70e790ddb",
   "metadata": {
    "tags": []
   },
   "outputs": [
    {
     "name": "stdout",
     "output_type": "stream",
     "text": [
      "./rawdata/CainsJawbone.1  ./rawdata/CainsJawbone.3\n",
      "./rawdata/CainsJawbone.2  ./rawdata/CainsJawbone.4\n"
     ]
    }
   ],
   "source": [
    "# Write your solution here\n",
    "\n",
    "ls ./rawdata/*.[0-9]\n",
    "mkdir -p ./data\n",
    "cp ./rawdata/*.[0-9] ./data\n",
    "cd data/\n",
    "chmod u+w *\n",
    "mv CainsJawbone.1 CainsJawbone.pptx\n",
    "mv CainsJawbone.2 CainsJawbone.utf8\n",
    "mv CainsJawbone.3 CainsJawbone.odp\n",
    "mv CainsJawbone.4 CainsJawbone.pdf\n",
    "chmod u-w *\n",
    "cd .."
   ]
  },
  {
   "cell_type": "markdown",
   "id": "94f02014-5a9f-411f-887f-e132040d7060",
   "metadata": {
    "tags": []
   },
   "source": [
    "* **Check:** At the end of this question `file ./data/CainsJawbone.??*` should produce:\n",
    "\n",
    "```bash\n",
    "./data/CainsJawbone.odp:  OpenDocument Presentation\n",
    "./data/CainsJawbone.pdf:  PDF document, version 1.4\n",
    "./data/CainsJawbone.pptx: Microsoft PowerPoint 2007+\n",
    "./data/CainsJawbone.utf8: UTF-8 Unicode (with BOM) text, with very long lines, with CRLF line terminators\n",
    "```"
   ]
  },
  {
   "cell_type": "code",
   "execution_count": 81,
   "id": "e27ba408-141f-4f0f-94e9-bed674ed3a9e",
   "metadata": {},
   "outputs": [
    {
     "name": "stdout",
     "output_type": "stream",
     "text": [
      "./data/CainsJawbone.odp:  OpenDocument Presentation\n",
      "./data/CainsJawbone.pdf:  PDF document, version 1.4\n",
      "./data/CainsJawbone.pptx: Microsoft PowerPoint 2007+\n",
      "./data/CainsJawbone.utf8: UTF-8 Unicode (with BOM) text, with very long lines, with CRLF line terminators\n"
     ]
    }
   ],
   "source": [
    "file ./data/CainsJawbone.??*"
   ]
  },
  {
   "cell_type": "markdown",
   "id": "0452365c-622b-4103-be15-e12de738c054",
   "metadata": {
    "tags": []
   },
   "source": [
    "<div class=\"alert alert-success\">\n",
    "    \n",
    "**For your interest...**\n",
    "* Now is a good time for you to get a bit more familiar with the text of Cain's Jawbone\n",
    "    * Open up a terminal window and use `less` to read through `./data/CainsJawbone.utf8`\n",
    "    * Use the JupyterLab file browser to navigate to `./data/CainsJawbone.pdf` and open that file with a PDF reader  \n",
    "</div>"
   ]
  },
  {
   "cell_type": "markdown",
   "id": "51dce5d0-e440-4516-bfde-67f6597e9580",
   "metadata": {
    "tags": []
   },
   "source": [
    "### Q1.4 (3 marks)"
   ]
  },
  {
   "cell_type": "markdown",
   "id": "adfbbe42-2df2-49d7-bb4a-5f73be0a0ac1",
   "metadata": {
    "tags": []
   },
   "source": [
    "* You are going to be working with the (UTF-8 encoded) text of _Cain's Jawbone_\n",
    "* When analysing text files, it's important to know what characters they contain\n",
    "    * These could include non-printing and non-ASCII characters\n",
    "1. Demonstrate a command that shows that `./data/CainsJawbone.utf8` has 278 lines                                                      <div style=\"text-align: right\">(½ mark)</div>"
   ]
  },
  {
   "cell_type": "code",
   "execution_count": 82,
   "id": "79493471-c5ef-4227-a793-24340d24ce0e",
   "metadata": {},
   "outputs": [
    {
     "name": "stdout",
     "output_type": "stream",
     "text": [
      "278 data/CainsJawbone.utf8\n"
     ]
    }
   ],
   "source": [
    "# Write your solution here\n",
    "\n",
    "wc -l data/CainsJawbone.utf8"
   ]
  },
  {
   "cell_type": "markdown",
   "id": "c1e2e0d1-4566-4033-8f02-c7d9a15f7fd5",
   "metadata": {},
   "source": [
    "2. Demonstrate how to use `printf` and `head` to print the first 16 bytes of `./data/CainsJawbone.utf8` between double quotes.  \n",
    "Your result should be `\"I sit down al\"`  \n",
    "_(Make sure you understand why there are less than 16 character printed between the quotes.)_                 <div style=\"text-align: right\">(½ mark)</div>"
   ]
  },
  {
   "cell_type": "code",
   "execution_count": 83,
   "id": "0d0c8133-9872-43f5-a1b6-a1b19bbb0d9f",
   "metadata": {},
   "outputs": [
    {
     "name": "stdout",
     "output_type": "stream",
     "text": [
      "\"﻿I sit down al\""
     ]
    }
   ],
   "source": [
    "# Write your solution here\n",
    "\n",
    "printf '\"'\n",
    "head -c 16 ./data/CainsJawbone.utf8\n",
    "printf '\"'"
   ]
  },
  {
   "cell_type": "markdown",
   "id": "721d6c06-9001-44a3-908a-3746cab35002",
   "metadata": {},
   "source": [
    "3. Demonstrate how to pipe the first 16 bytes of `./data/CainsJawbone.utf8` through `cat` in a way that shows non-printing characters. <div style=\"text-align: right\">(½ mark)</div>"
   ]
  },
  {
   "cell_type": "code",
   "execution_count": 84,
   "id": "b5e349e3-597f-4c09-a0e2-90238007c079",
   "metadata": {},
   "outputs": [
    {
     "name": "stdout",
     "output_type": "stream",
     "text": [
      "M-oM-;M-?I sit dcat: write error: Broken pipe\n"
     ]
    }
   ],
   "source": [
    "# Write your solution here\n",
    "\n",
    "cat -v ./data/CainsJawbone.utf8 | head -c16"
   ]
  },
  {
   "cell_type": "markdown",
   "id": "7a97ebfa-dece-4190-b007-1656db62c184",
   "metadata": {},
   "source": [
    "4. Demonstrate how to use `grep` to find any non-ASCII characters in `./data/CainsJawbone.utf8`, specifically,\n",
    "by showing the first 10 non-ASCII characters that appear in the file and the lines that they appear on.  \n",
    "Do not show _any_ ASCII character from the file.                                                                           <div style=\"text-align: right\">(½ mark)</div>"
   ]
  },
  {
   "cell_type": "code",
   "execution_count": 85,
   "id": "aae3d69e-4b6a-4941-9804-f2ef88d91fa3",
   "metadata": {
    "tags": []
   },
   "outputs": [
    {
     "name": "stdout",
     "output_type": "stream",
     "text": [
      "1:﻿\n",
      "1:’\n",
      "7:’\n",
      "7:’\n",
      "11:’\n",
      "15:’\n",
      "15:’\n",
      "15:’\n",
      "15:’\n",
      "19:’\n"
     ]
    }
   ],
   "source": [
    "# Write your solution here\n",
    "\n",
    "grep -o -P -n \"[^\\x00-\\x7F]\" ./data/CainsJawbone.utf8 | head -10"
   ]
  },
  {
   "cell_type": "markdown",
   "id": "ec3bf770-11a2-4be5-b8a1-927b1a921091",
   "metadata": {},
   "source": [
    "5. Demonstrate how, using `grep`, `sort` and `uniq`, to produce a list in descending order of frequency of the number of different non-ASCII characters in `./data/CainsJawbone.utf8`   \n",
    "Your results should be:\n",
    "\n",
    "```bash\n",
    "    196 ’\n",
    "     22 ”\n",
    "     22 “\n",
    "      7 é\n",
    "      2 …\n",
    "      2 ‘\n",
    "      2 ê\n",
    "      2 è\n",
    "      1 \n",
    "      1 ë\n",
    "      1 ç\n",
    "      1 à\n",
    "```       \n",
    "<div style=\"text-align: right\">(½ mark)</div>"
   ]
  },
  {
   "cell_type": "code",
   "execution_count": 86,
   "id": "af33dc8e-2f02-4d89-95da-45ba02a4522c",
   "metadata": {},
   "outputs": [
    {
     "name": "stdout",
     "output_type": "stream",
     "text": [
      "    196 ’\n",
      "     22 ”\n",
      "     22 “\n",
      "      7 é\n",
      "      2 …\n",
      "      2 ‘\n",
      "      2 ê\n",
      "      2 è\n",
      "      1 ﻿\n",
      "      1 ë\n",
      "      1 ç\n",
      "      1 à\n"
     ]
    }
   ],
   "source": [
    "# Write your solution here\n",
    "\n",
    "grep -o -P \"[^\\x00-\\x7F]\" ./data/CainsJawbone.utf8 | sort | uniq -c | sort -nr"
   ]
  },
  {
   "cell_type": "markdown",
   "id": "01f0af14-4922-4600-925c-d4b62040d18f",
   "metadata": {
    "tags": []
   },
   "source": [
    "### Q1.5 (1 mark)"
   ]
  },
  {
   "cell_type": "markdown",
   "id": "5746545c-91ec-4ae8-a889-191c39be963f",
   "metadata": {
    "tags": []
   },
   "source": [
    "* This harder question will require some detective work.\n",
    "    * Write the results of your detective work using a mixture of Markdown and Code cells below.\n",
    "\n",
    "1. The results of Q1.4.6 show that `./raw/CainsJawbone.utf8` contains one non-ASCII sequence of bytes that is also _non-printing_.  \n",
    "Find what that sequence of bytes is and print it in hexadecimal\n",
    "\n",
    "\n",
    "<div style=\"text-align: right\">(½ mark)</div>"
   ]
  },
  {
   "cell_type": "code",
   "execution_count": 87,
   "id": "3e3d2bb4-9fb8-4e91-8a9a-82e4dce0c664",
   "metadata": {},
   "outputs": [
    {
     "name": "stdout",
     "output_type": "stream",
     "text": [
      "From Q1.4.4, we can see that the non-ASCII and non-printing \n",
      "character occurs in the first line of ./data/CainsJawbone.utf8. \n",
      "It is also the first match of a non-ASCII character. \n",
      "With this knowledge, we can simply output out the result of this first \n",
      "match to a text file, then use the 'xxd' command to print this \n",
      "text file as hexadecimal. \n",
      "\n",
      "This sequence of bytes in hexadecimal is: \n",
      "00000000: efbb bf0a                                ....\n"
     ]
    }
   ],
   "source": [
    "# Write your solution here and in the cells below if you need to\n",
    "\n",
    "printf \"From Q1.4.4, we can see that the non-ASCII and non-printing \\n\\\n",
    "character occurs in the first line of ./data/CainsJawbone.utf8. \\n\\\n",
    "It is also the first match of a non-ASCII character. \\n\\\n",
    "With this knowledge, we can simply output out the result of this first \\n\\\n",
    "match to a text file, then use the 'xxd' command to print this \\n\\\n",
    "text file as hexadecimal. \\n\\n\"\n",
    "\n",
    "printf \"This sequence of bytes in hexadecimal is: \\n\"\n",
    "grep -o -P \"[^\\x00-\\x7F]\" ./data/CainsJawbone.utf8 | head -1 > Q1-5.txt\n",
    "xxd Q1-5.txt"
   ]
  },
  {
   "cell_type": "markdown",
   "id": "c0ae7113-c11e-4ba3-9941-81204d1599e3",
   "metadata": {},
   "source": [
    "<!--   -->"
   ]
  },
  {
   "cell_type": "markdown",
   "id": "e38c0857-4cb7-40dd-90f3-65d7e9c5160c",
   "metadata": {},
   "source": [
    "2. Use your detective skills to figure out what that sequence of bytes is for. <div style=\"text-align: right\">(½ mark)</div>"
   ]
  },
  {
   "cell_type": "markdown",
   "id": "87965e47-1a22-46ec-ba4e-615bff06dab0",
   "metadata": {
    "tags": []
   },
   "source": [
    "> This sequence of bytes is what is known as a **byte order mark**. It appears as a [magic number](https://en.wikipedia.org/wiki/Magic_number_(programming)#Magic_numbers_in_files) in the beginning of a text stream which signals to the program reading the text:\n",
    ">* the byte order (endianness) of the stream in 16-bit and 32-bit encodings\n",
    ">* text stream's encoding is in Unicode\n",
    ">* the Unicode character encoding used\n",
    "For 16-bit and 32-bit encodings, the program and/or computer needs to know which byte order integers are encoded in.\n",
    "\n",
    "[Source](https://en.wikipedia.org/wiki/Byte_order_mark)"
   ]
  },
  {
   "cell_type": "markdown",
   "id": "88d2b360-50c6-4cbe-95f7-98c363bf4823",
   "metadata": {
    "tags": []
   },
   "source": [
    "----\n",
    "## ❔ Question 2 (7 marks)"
   ]
  },
  {
   "cell_type": "markdown",
   "id": "421c174d-17a5-4b51-a256-07a5f3e53112",
   "metadata": {
    "tags": []
   },
   "source": [
    "### Background"
   ]
  },
  {
   "cell_type": "markdown",
   "id": "308795ca-9fae-4284-b255-92997510d954",
   "metadata": {},
   "source": [
    "This question focuses on working with your text data at the _word_ level."
   ]
  },
  {
   "cell_type": "markdown",
   "id": "1ff42ee0-7e0b-4209-a292-15773552cdac",
   "metadata": {
    "tags": []
   },
   "source": [
    "### Q2.1 (3 marks)"
   ]
  },
  {
   "cell_type": "markdown",
   "id": "7642a695-f945-4ad1-a875-1a3ee6d77e28",
   "metadata": {
    "tags": []
   },
   "source": [
    "1. Demonstrate how to use `dos2unix` to convert `./data/CainsJawbone.utf8` to a format well-suited to a Unix OS, writing that to `./data/CainsJawbone.unix.utf8`   \n",
    "(Make sure you don't overwrite `./data/CainsJawbone.utf8`!)  \n",
    "As a check, the `file` command should indicate that the new file is `UTF-8 Unicode text, with very long lines`\n",
    "<div style=\"text-align: right\">(½ mark)</div>"
   ]
  },
  {
   "cell_type": "code",
   "execution_count": 88,
   "id": "662398f4-24b6-4675-a982-d00efe049787",
   "metadata": {
    "tags": []
   },
   "outputs": [
    {
     "name": "stdout",
     "output_type": "stream",
     "text": [
      "dos2unix: converting file ./data/CainsJawbone.utf8 to file ./data/CainsJawbone.unix.utf8 in Unix format...\n",
      "./data/CainsJawbone.unix.utf8: UTF-8 Unicode text, with very long lines\n"
     ]
    }
   ],
   "source": [
    "# Write your solution here\n",
    "\n",
    "dos2unix -n ./data/CainsJawbone.utf8 ./data/CainsJawbone.unix.utf8\n",
    "file ./data/CainsJawbone.unix.utf8"
   ]
  },
  {
   "cell_type": "markdown",
   "id": "f036257c-8bf7-475e-aa9e-3c672115971e",
   "metadata": {},
   "source": [
    "2. Demonstrate a pipeline of commands that returns the 10 most common sequences of punctuation character in the text.  \n",
    "Hint: search for sequences of characters that are _not_ alphanumeric or blank: searching for punctuation characters alone will not find non-ASCII punctuation  \n",
    "Hint: The GNU grep manual's section on [Character Classes and Bracket Expressions](https://www.gnu.org/software/grep/manual/grep.html#Character-Classes-and-Bracket-Expressions) may help  \n",
    "Your output should be \n",
    "\n",
    "```\n",
    "   1223 ,\n",
    "   1120 .\n",
    "    196 ’\n",
    "    112 -\n",
    "    107 ;\n",
    "    102 ?\n",
    "     99 ________________\n",
    "     64 ---\n",
    "     59 :\n",
    "     24 !\n",
    "```\n",
    "<div style=\"text-align: right\">(½ mark)</div>"
   ]
  },
  {
   "cell_type": "code",
   "execution_count": 89,
   "id": "775407e3-27e8-4324-87aa-383aeb93f1f4",
   "metadata": {
    "tags": []
   },
   "outputs": [
    {
     "name": "stdout",
     "output_type": "stream",
     "text": [
      "   1584 _\n",
      "   1233 ,\n",
      "   1132 .\n",
      "    322 -\n",
      "    196 ’\n",
      "    113 ?\n",
      "    107 ;\n",
      "     59 :\n",
      "     29 !\n",
      "     22 ”\n",
      "     22 “\n",
      "      5 )\n",
      "      5 (\n",
      "      2 …\n",
      "      2 ‘\n",
      "      1 '\n"
     ]
    }
   ],
   "source": [
    "# Write your solution here\n",
    "\n",
    "cat ./data/CainsJawbone.unix.utf8 | grep -o '[[:punct:][:punct:]]' | grep -o '[^[:blank:]]' | grep -o '[^[:alnum:]]' | sort | uniq -c | sort -nr"
   ]
  },
  {
   "cell_type": "markdown",
   "id": "20c06185-2425-48ed-a634-f3ae602671dd",
   "metadata": {},
   "source": [
    "3. It looks like whoever digitised Cain's Jawbone has used three hyphens instead of an [em dash](https://en.wikipedia.org/wiki/Dash#Em_dash).  \n",
    "    Demonstrate a single command line that counts the number of occurrences of `---` in `./data/CainsJawbone.unix.utf8`.  \n",
    "    Be sure you are counting _occurrences_, not lines.\n",
    "<div style=\"text-align: right\">(½ mark)</div>"
   ]
  },
  {
   "cell_type": "code",
   "execution_count": 90,
   "id": "10a3d792-b526-4ecf-9c40-7a26a8296394",
   "metadata": {
    "tags": []
   },
   "outputs": [
    {
     "name": "stdout",
     "output_type": "stream",
     "text": [
      "     70 ---\n"
     ]
    }
   ],
   "source": [
    "# Write your solution here\n",
    "\n",
    "grep -o \"\\-\\-\\-\" ./data/CainsJawbone.unix.utf8 | uniq -c"
   ]
  },
  {
   "cell_type": "markdown",
   "id": "78f47a90-fede-43c6-8134-6c42b4063d72",
   "metadata": {},
   "source": [
    "4. Demonstrate commands that replace all instances of `---` with the em dash character `—` in `./data/CainsJawbone.unix.utf8` and write the output to `./data/CainsJawbone.emdash.utf8`\n",
    "<div style=\"text-align: right\">(½ mark)</div>"
   ]
  },
  {
   "cell_type": "code",
   "execution_count": 91,
   "id": "256efbe3-ae49-4637-8ec0-9af225194fe3",
   "metadata": {
    "tags": []
   },
   "outputs": [],
   "source": [
    "# Write your solution here\n",
    "\n",
    "sed  's/---/—/g' ./data/CainsJawbone.unix.utf8 > ./data/CainsJawbone.emdash.utf8"
   ]
  },
  {
   "cell_type": "markdown",
   "id": "0102ba94-a8cc-4274-830d-24b7ff9ededd",
   "metadata": {},
   "source": [
    "5. Demonstrate commands which count the number of instances of `---` in `./data/CainsJawbone.emdash.utf8`.  \n",
    "Use `printf` to display the message `No instances of --- found` if none are found.\n",
    "<div style=\"text-align: right\">(½ mark)</div>"
   ]
  },
  {
   "cell_type": "code",
   "execution_count": 92,
   "id": "43c855a2-503f-402a-8f13-1f167db59a8d",
   "metadata": {
    "tags": []
   },
   "outputs": [
    {
     "name": "stdout",
     "output_type": "stream",
     "text": [
      "No instances of --- found"
     ]
    }
   ],
   "source": [
    "# Write your solution here\n",
    "\n",
    "if grep -o \"\\-\\-\\-\" ./data/CainsJawbone.emdash.utf8; then\n",
    "    printf \"Instances of --- found!\"\n",
    "else\n",
    "    printf \"No instances of --- found\"\n",
    "fi"
   ]
  },
  {
   "cell_type": "markdown",
   "id": "d4257ce6-4ca0-4eb1-9e39-34f3c082afb9",
   "metadata": {},
   "source": [
    "6. You have heard that one of the key characters is someone (or something) called \"Henry\".  \n",
    "Demonstrate a single command or pipeline of commands that counts the number of times that the words `Henry` or `Henry’s` appear in `./data/CainsJawbone.emdash.utf8`  \n",
    "_Be careful:_ the punctuation character in `Henry’s` is _not_ a single quote (`'`).  \n",
    "Your command should produce the result:\n",
    "\n",
    "```bash\n",
    "     51 Henry\n",
    "      5 Henry’s\n",
    "```\n",
    "<div style=\"text-align: right\">(½ mark)</div>"
   ]
  },
  {
   "cell_type": "code",
   "execution_count": 93,
   "id": "7f1d2a99-0c67-4741-903b-c8451f328813",
   "metadata": {
    "tags": []
   },
   "outputs": [
    {
     "name": "stdout",
     "output_type": "stream",
     "text": [
      "     56  Henry\n",
      "      5 Henry’s\n"
     ]
    }
   ],
   "source": [
    "# Write your solution here\n",
    "\n",
    "grep -o -E '(^| )Henry' ./data/CainsJawbone.emdash.utf8 | uniq -c\n",
    "grep -o -E \"Henry’s\" ./data/CainsJawbone.emdash.utf8 | uniq -c"
   ]
  },
  {
   "cell_type": "markdown",
   "id": "c25540fd-8133-46d9-903c-304f59107d48",
   "metadata": {
    "tags": []
   },
   "source": [
    "### Q2.2 (4 marks)"
   ]
  },
  {
   "cell_type": "markdown",
   "id": "93956a35-7938-493a-bc2c-4f92892fbb1c",
   "metadata": {},
   "source": [
    "In text analysis, it is often useful to consider words individually.\n",
    "\n",
    "- This can be done by breaking up a text file into one word per line... but that is easier said than done with literary texts.\n",
    "\n",
    "Cain's Jawbone is written with the full richness of English language, grammar and punctuation and it is important to preserve meaning at the word level.\n",
    "\n",
    "- The digital version also contains non-ASCII UTF-8 characters for accents, quotes, ellipses and contractions.\n",
    "- Printing one word per line is not easy with text processing tools designed for less literary texts.\n",
    "- Here are some _unsuccessful_ attempts that you can run before you (successfully) attempt this question:\n",
    "\n",
    "```bash\n",
    "phrase=\"Cain's Jawbone (1934) isn’t 'easy': “C'est très difficile…” says Mathers.\"\n",
    "printf \"# Here's a phrase:\\n$phrase\"\n",
    "\n",
    " # Here are some attempts to break that phrase into one word per line\n",
    "printf \"\\n\\n# Attempt #1\\n\"\n",
    "echo \"$phrase\" | grep -ow \"[[:alnum:]]*\"\n",
    "\n",
    "printf \"\\n\\n# Attempt #2\\n\"\n",
    "echo \"$phrase\" | grep -o '\\w*'\n",
    "\n",
    "printf \"\\n\\n# Attempt #3 (https://unix.stackexchange.com/questions/342582/arrange-text-file-with-one-word-per-line)\\n\"\n",
    "echo \"$phrase\" | tr -sc '[:alnum:]' '[\\n*]'\n",
    "\n",
    "printf \"\\n\\n# Attempt #4 (https://unix.stackexchange.com/questions/395477/how-to-format-output-one-word-per-line)\\n\"\n",
    "echo \"$phrase\" | tr -s '[:blank:]' '\\n'\n",
    "```"
   ]
  },
  {
   "cell_type": "markdown",
   "id": "13cb9caf-2c5e-422e-a92b-12ee01eafaef",
   "metadata": {},
   "source": [
    "1. Demonstrate commands that transform `./data/CainsJawbone.emdash.utf8` into one word per line such that each word has no leading or trailing punctuation.  \n",
    "Write the output of your commands to `./words/CainsJawbone.words.utf8` and print the final 10 lines of that file.  \n",
    "Suggestion: convert all blanks to newlines; strip _leading_ sequences of punctuation; strip _trailing_ sequences of punctuation; delete any blank lines.  \n",
    "The final 10 lines of `./words/CainsJawbone.words.utf8` should be\n",
    "\n",
    "```bash\n",
    "time\n",
    "getting\n",
    "out\n",
    "of\n",
    "hand\n",
    "Good-bye\n",
    "Henry\n",
    "He\n",
    "drops\n",
    "awa\n",
    "```\n",
    "<div style=\"text-align: right\">(2 marks)</div>"
   ]
  },
  {
   "cell_type": "code",
   "execution_count": 94,
   "id": "86b74003-0ba3-4f21-b4f0-012800fb5e39",
   "metadata": {
    "tags": []
   },
   "outputs": [
    {
     "name": "stdout",
     "output_type": "stream",
     "text": [
      "time\n",
      "getting\n",
      "out\n",
      "of\n",
      "hand\n",
      "Good-bye\n",
      "Henry\n",
      "He\n",
      "drops\n",
      "awa\n"
     ]
    }
   ],
   "source": [
    "# Write your solution here\n",
    "\n",
    "mkdir -p ./words\n",
    "cat ./data/CainsJawbone.emdash.utf8 | tr -d \"[.,/\\\\=\\+\\{\\[\\]\\}\\!\\@\\#\\$\\%\\^\\*\\'\\\\\\(\\)_;?:“”]\" | tr -s '[:blank:]' '\\n' > ./words/CainsJawbone.words.utf8\n",
    "cat ./words/CainsJawbone.words.utf8 | tail"
   ]
  },
  {
   "cell_type": "markdown",
   "id": "0603937d-0764-4030-8868-bdd55a72c493",
   "metadata": {},
   "source": [
    "2. Using `./words/CainsJawbone.words.utf8`, demonstrate commands that show there are 186 words containing apostrophes (`’`), and 108 words containing hyphens (`-`) in _Cain's Jawbone_.\n",
    "<div style=\"text-align: right\">(1 mark)</div>"
   ]
  },
  {
   "cell_type": "code",
   "execution_count": 95,
   "id": "a62eadc9-cb27-4d13-8da2-b9db324c204f",
   "metadata": {},
   "outputs": [
    {
     "name": "stdout",
     "output_type": "stream",
     "text": [
      "Number of apostrophes in Cain's Jawbone: 186\n",
      "Number of hyphens in Cain's Jawbone: 107\n"
     ]
    }
   ],
   "source": [
    "# Write your solution here\n",
    "printf \"Number of apostrophes in Cain's Jawbone: \"\n",
    "tr ' ' '\\n' < ../words/CainsJawbone.words.utf8 | grep -P -- '\\w’\\w' | wc -l\n",
    "printf \"Number of hyphens in Cain's Jawbone: \"\n",
    "tr ' ' '\\n' < ../words/CainsJawbone.words.utf8 | grep -P -- '\\w-\\w' | wc -l"
   ]
  },
  {
   "cell_type": "markdown",
   "id": "83a3a11d-fe95-41b4-933e-6d58deed9745",
   "metadata": {},
   "source": [
    "3.  Using `./words/CainsJawbone.words.utf8`, demonstrate commands that list all 12 unique words in Cain's Jawbone that contain [accents](https://en.wikipedia.org/wiki/Diacritic#Types), one word per line.  \n",
    "Note that an apostrophe is not an accent.\n",
    "<div style=\"text-align: right\">(1 mark)</div>"
   ]
  },
  {
   "cell_type": "code",
   "execution_count": 28,
   "id": "094bed4d-6b9b-44c4-9b48-c921989e2806",
   "metadata": {},
   "outputs": [
    {
     "name": "stdout",
     "output_type": "stream",
     "text": [
      "grep: Invalid collation character\n"
     ]
    },
    {
     "ename": "",
     "evalue": "2",
     "output_type": "error",
     "traceback": []
    }
   ],
   "source": [
    "# Write your solution here\n",
    "\n",
    "grep -o \"[A-zÀ-ÿ]\" ./words/CainsJawbone.words.utf8"
   ]
  },
  {
   "cell_type": "markdown",
   "id": "18c14e4e-539f-42d0-b91b-6538ba681b5d",
   "metadata": {
    "tags": []
   },
   "source": [
    "----\n",
    "## ❔ Question 3 (6 marks)"
   ]
  },
  {
   "cell_type": "markdown",
   "id": "16b81276-3c05-419f-aec0-a01baf3166a8",
   "metadata": {
    "tags": []
   },
   "source": [
    "### Background"
   ]
  },
  {
   "cell_type": "markdown",
   "id": "5f6b247c-4a6b-40aa-bdd2-a8b62cce58e0",
   "metadata": {},
   "source": [
    "This question focuses on working with your text data at the _page_ level."
   ]
  },
  {
   "cell_type": "markdown",
   "id": "690818e5-8888-4c14-89af-88e31d775e38",
   "metadata": {
    "tags": []
   },
   "source": [
    "### Q3.1 (3 marks)"
   ]
  },
  {
   "cell_type": "markdown",
   "id": "08ce0b8c-82d3-4559-a608-9e8ecf05ef66",
   "metadata": {},
   "source": [
    "The text of Cain's Jawbone consists of 100 pages that are presented out of order.\n",
    "\n",
    "- This question asks you to split the single file you have been given into those 100 pages, and ensure that each page has no leading or trailing blanks.\n",
    "- To ensure that you can have a go at all the questions, even if you are unable to complete certain steps, we provide the results that you should obtain in `../rawpage` and `../page`\n",
    "    - If you are unable to generate the pages, use the files in those folders as necessary"
   ]
  },
  {
   "cell_type": "markdown",
   "id": "4e291279-5db0-4ac1-b196-6e4fd74ec3d2",
   "metadata": {},
   "source": [
    "1. Demonstrate commands that split `./data/CainsJawbone.emdash.utf8` into files corresponding to each page of Cain's Jawbone.  \n",
    "Note that `awk` is well suited to split a file according to certain patterns of text.  \n",
    "Write the page files into a new directory called `./rawpage`, naming them with a three-digit page number using leading zeros.  \n",
    "See `../rawpage` for the output your commands should produce.  \n",
    "At the conclusion, `./rawpage` should contain the files:\n",
    "\n",
    "```bash\n",
    "001  008  015  022  029  036  043  050  057  064  071  078  085  092  099\n",
    "002  009  016  023  030  037  044  051  058  065  072  079  086  093  100\n",
    "003  010  017  024  031  038  045  052  059  066  073  080  087  094\n",
    "004  011  018  025  032  039  046  053  060  067  074  081  088  095\n",
    "005  012  019  026  033  040  047  054  061  068  075  082  089  096\n",
    "006  013  020  027  034  041  048  055  062  069  076  083  090  097\n",
    "007  014  021  028  035  042  049  056  063  070  077  084  091  098\n",
    "```\n",
    "<div style=\"text-align: right\">(1 mark)</div>"
   ]
  },
  {
   "cell_type": "code",
   "execution_count": 96,
   "id": "a0eac279-e399-42d4-837f-7a8019a4313e",
   "metadata": {},
   "outputs": [
    {
     "name": "stdout",
     "output_type": "stream",
     "text": [
      "100 files have been successfully generated in ./rawpage/"
     ]
    }
   ],
   "source": [
    "# Write your solution here\n",
    "\n",
    "mkdir -p rawpage\n",
    "cp ./data/CainsJawbone.emdash.utf8 ./rawpage\n",
    "cd rawpage\n",
    "awk '/________________/{x=\"F\"++i;next}; i > 0 {print > x;}' CainsJawbone.emdash.utf8\n",
    "head -n3 CainsJawbone.emdash.utf8 > F0\n",
    "a=1\n",
    "for i in F*; do\n",
    "  new=$(printf \"%03d\" \"$a\")\n",
    "  mv -i -- \"$i\" \"$new\"\n",
    "  let a=a+1\n",
    "done\n",
    "rm CainsJawbone.emdash.utf8\n",
    "cd ..\n",
    "printf '100 files have been successfully generated in ./rawpage/'\n",
    "# Note to marker: rename loop above might take some time to load.\n"
   ]
  },
  {
   "cell_type": "markdown",
   "id": "2597e2ec-0fd3-4713-8395-aaa2f9687a8e",
   "metadata": {},
   "source": [
    "2. Demonstrate commands to summarise the number of lines in the page files you have just created.   \n",
    "Each line of your summary should be of the form  `<number of pages with N lines> <N>` so that your output is  \n",
    "```\n",
    "     76 1\n",
    "     13 3\n",
    "      3 4\n",
    "      1 5\n",
    "      1 6\n",
    "      6 7\n",
    "```\n",
    "<div style=\"text-align: right\">(½ mark)</div>"
   ]
  },
  {
   "cell_type": "code",
   "execution_count": 97,
   "id": "567b778b-7c9a-4cf2-b50a-a93244a8d5bf",
   "metadata": {},
   "outputs": [
    {
     "name": "stdout",
     "output_type": "stream",
     "text": [
      "     76 1\n",
      "     13 3\n",
      "      3 4\n",
      "      1 5\n",
      "      1 6\n",
      "      6 7\n"
     ]
    }
   ],
   "source": [
    "# Write your solution here\n",
    "\n",
    "find ../rawpage/ -maxdepth 1 -type f -print0 | wc -l --files0-from=- | sort -nr | cut -c1-1 | tail -n +2 | sort | uniq -c"
   ]
  },
  {
   "cell_type": "markdown",
   "id": "99c5f6c1-1b0a-43eb-a63b-5e1a394d3d32",
   "metadata": {},
   "source": [
    "<div class=\"alert alert-success\">\n",
    "    \n",
    "**For your interest...**\n",
    "* Here are some handy ways for us to print and inspect several files:\n",
    "    \n",
    "```\n",
    "printf \"# grep can put the filename at the start of each line\\n\"\n",
    "grep \"\"    ./rawpage/00[12]  | fold -s\n",
    "\n",
    "printf \"\\n# tail can put the filename at the beginning of each file\\n\"\n",
    "tail -n +1 ./rawpage/00[12]\n",
    "\n",
    "printf \"\\n# more can put the filename at the beginning of each file\\n\"\n",
    "more       ./rawpage/00[12] | cat\n",
    "```\n",
    "    \n",
    "</div>"
   ]
  },
  {
   "cell_type": "markdown",
   "id": "29974874-0f0a-4a69-a944-a2a47f3148b1",
   "metadata": {},
   "source": [
    "3. While most of the pages are 1-liners, there are a few with several lines that you should inspect.  \n",
    "You will see some pages that have leading and trailing blanks, e.g., `cat -A ./rawpage/012`\n",
    "[StackOverflow can help us remove trailing and starting newlines](https://stackoverflow.com/questions/7359527/removing-trailing-starting-newlines-with-sed-awk-tr-and-friends)  \n",
    "Demonstrate commands that remove the leading and trailing blanks from `./rawpage/012` and pipe the output of these commands through `cat -A`\n",
    "\n",
    "<div style=\"text-align: right\">(½ mark)</div>"
   ]
  },
  {
   "cell_type": "code",
   "execution_count": 98,
   "id": "9f6b9da9-1bfb-4880-9737-4beda82e5e54",
   "metadata": {},
   "outputs": [
    {
     "name": "stdout",
     "output_type": "stream",
     "text": [
      "$\n",
      "$\n",
      "I rubbed my eyes and massaged my temples with pronated finger-tips. Then I fumbled two aspirin tablets into my mouth : Noel CowardM-bM-^@M-^Ys King CharlesM-bM-^@M-^Ys Head. I had a very bad head. My vis-M-CM- -vis hadnM-bM-^@M-^Yt a bad head, now I came to consider it, bowed over the documents. It is a very ungentlemanly thing to read a private cigarette case. I became a trifle abstracted. What, I wondered, would he have said about an abstracted will? He might answer to the same name as the man who sang : M-bM-^@M-^\\Ah, are you digging on my grave?M-bM-^@M-^] But a softer fellow I had rarely seen. On velvet, yes, on velvet I would have trusted him ; but not on cinders, by no means on cinders. Yet the keen eyes bent like small topaz searchlights over the writing. I would get, I felt, what I wanted from this man. But then I suddenly remembered the words of the poet :$\n",
      "$\n",
      "$\n",
      "The golden one is gone from the banquets,$\n",
      "She, beloved of Atimetus,$\n"
     ]
    }
   ],
   "source": [
    "# Write your solution here\n",
    "\n",
    "cat -A ../rawpage/012 | awk '{$1=$1;print}'"
   ]
  },
  {
   "cell_type": "markdown",
   "id": "b09f9c6c-81ac-469f-822e-411a0969f3b1",
   "metadata": {},
   "source": [
    "4. Using a `for` loop in `bash`, demonstrate commands that remove leading and trailing blank lines from each file in `./rawpages`, writing the trimmed files to a new folder called `./pages`.   \n",
    "Note that [StackOverflow can help us change multiple files](https://stackoverflow.com/questions/10445934/change-multiple-files)  \n",
    "The summary of the number of lines in the files in `./pages` should be:  \n",
    "```\n",
    "     88 1\n",
    "      1 3\n",
    "      3 4\n",
    "      2 5\n",
    "      1 6\n",
    "      5 7\n",
    "```\n",
    "\n",
    "<div style=\"text-align: right\">(1 mark)</div>"
   ]
  },
  {
   "cell_type": "code",
   "execution_count": 99,
   "id": "62e7322a-cf66-4a7d-99d4-a4225a9c8503",
   "metadata": {},
   "outputs": [
    {
     "name": "stdout",
     "output_type": "stream",
     "text": [
      "bash: ../page/: Is a directory\n"
     ]
    }
   ],
   "source": [
    "# Write your solution here\n",
    "cd rawpage\n",
    "for i in *; do\n",
    "    sed 's/^ *//;s/ *$//;s/  */ /;' $i\n",
    "done > '../page/'\n",
    "\n",
    "cd .."
   ]
  },
  {
   "cell_type": "markdown",
   "id": "4e9b9775-4d25-436c-b822-752a07140f38",
   "metadata": {
    "tags": []
   },
   "source": [
    "### Q3.2 (2 marks)"
   ]
  },
  {
   "cell_type": "markdown",
   "id": "ea7e1c58-7b9a-4e8e-9a85-8906666ba579",
   "metadata": {},
   "source": [
    "Now that you've split the text into 100 pages, it's time to look for some clues about which pages might go together.  \n",
    "You've noticed that some pages don't start with a capital letter, and some pages don't end with punctuation... maybe these can help us pair pages together?\n",
    "\n",
    "1. Demonstrate commands that list all the files in `./page/` whose first character is lower case letter.  \n",
    "There are several ways to do this, e.g., using `find`, `awk` or `bash` loops.  \n",
    "Your output should be\n",
    "\n",
    "```bash\n",
    "./page/013  \n",
    "./page/024  \n",
    "./page/042  \n",
    "./page/050  \n",
    "./page/067 t\n",
    "./page/074 p\n",
    "./page/087  \n",
    "./page/093  \n",
    "```  \n",
    "<div style=\"text-align: right\">(1 mark)</div>"
   ]
  },
  {
   "cell_type": "code",
   "execution_count": 100,
   "id": "30847b9d-0dc2-4333-8375-f1d10192a82f",
   "metadata": {},
   "outputs": [
    {
     "name": "stdout",
     "output_type": "stream",
     "text": [
      "../page/.ipyn\n",
      "../page/067 t\n",
      "../page/074 p\n"
     ]
    }
   ],
   "source": [
    "# Write your solution here\n",
    "\n",
    "find ../page -type f -print0 | while IFS= read -r -d $'\\0' file; do\n",
    "  if [[ $(head -c1 \"$file\") == [a-z] ]]; then\n",
    "      awk '{print FILENAME\" \"$0\"\"; nextfile}' $file | head -c 13\n",
    "      printf \"\\n\"\n",
    "  fi\n",
    "done"
   ]
  },
  {
   "cell_type": "markdown",
   "id": "d5d7be87-c9a2-413e-834b-ceb33dc943f3",
   "metadata": {},
   "source": [
    "2. Demonstrate commands that list all the files in `./page/` whose last character is a letter (rather than punctuation)   \n",
    "There are several ways to do this, e.g., using `find`, `awk` or `bash` loops.  \n",
    "Your output should be\n",
    "\n",
    "```bash\n",
    "./page/023 t\n",
    "./page/041 l\n",
    "./page/066 h\n",
    "./page/073 h\n",
    "./page/086 t\n",
    "./page/092 e\n",
    "```\n",
    "\n",
    "<div style=\"text-align: right\">(1 mark)</div>"
   ]
  },
  {
   "cell_type": "code",
   "execution_count": 101,
   "id": "bc91d016-7377-475e-bfbd-ec306fb298aa",
   "metadata": {},
   "outputs": [],
   "source": [
    "# Write your solution here\n",
    "\n",
    "find ../page -type f -print0 | while IFS= read -r -d $'\\0' file; do\n",
    "  if [[ $(tail -c1 \"$file\") == [a-z] ]]; then\n",
    "      awk '{print FILENAME\" \"$0\"\"; nextfile}' $file | head -c 13\n",
    "      printf \"\\n\"\n",
    "  fi\n",
    "done"
   ]
  },
  {
   "cell_type": "markdown",
   "id": "7c6ce757-a7b2-4180-a76c-4716a0a0cabf",
   "metadata": {
    "tags": []
   },
   "source": [
    "### Q3.3 (1 mark)"
   ]
  },
  {
   "cell_type": "markdown",
   "id": "a4d9b575-7e0a-4d2f-82a4-51702378c4aa",
   "metadata": {},
   "source": [
    "1. You've noticed that some pages (e.g., `./page/023`) contain part of poems.  \n",
    "Demonstrate commands that list the names of all the files in `./page/` that contain parts of poems.\n",
    "<div style=\"text-align: right\">(½ mark)</div>"
   ]
  },
  {
   "cell_type": "code",
   "execution_count": 112,
   "id": "f076626e-d4cf-46b8-9f50-73ed7539593a",
   "metadata": {},
   "outputs": [
    {
     "name": "stdout",
     "output_type": "stream",
     "text": [
      "../page/.ipynb_checkpoints/012-checkpoint\n",
      "../page/.ipynb_checkpoints/013-checkpoint\n",
      "../page/.ipynb_checkpoints/023-checkpoint\n",
      "../page/.ipynb_checkpoints/024-checkpoint\n",
      "../page/.ipynb_checkpoints/041-checkpoint\n",
      "../page/.ipynb_checkpoints/042-checkpoint\n",
      "../page/.ipynb_checkpoints/049-checkpoint\n",
      "../page/.ipynb_checkpoints/050-checkpoint\n",
      "../page/.ipynb_checkpoints/086-checkpoint\n",
      "../page/.ipynb_checkpoints/087-checkpoint\n",
      "../page/.ipynb_checkpoints/092-checkpoint\n",
      "../page/.ipynb_checkpoints/093-checkpoint\n",
      "../page/012\n",
      "../page/013\n",
      "../page/023\n",
      "../page/024\n",
      "../page/041\n",
      "../page/042\n",
      "../page/049\n",
      "../page/050\n",
      "../page/086\n",
      "../page/087\n",
      "../page/092\n",
      "../page/093\n",
      "\n",
      "\n",
      "NOTE: ../page/.ipynb_checkpoints/###-checkpoint are the same as their ../page/### equivalent."
     ]
    }
   ],
   "source": [
    "# Write your solution here\n",
    "\n",
    "grep -rnl '../page/' -e '    ' | sort\n",
    "printf '\\n\\nNOTE: ../page/.ipynb_checkpoints/###-checkpoint are the same as their ../page/### equivalent.'"
   ]
  },
  {
   "cell_type": "markdown",
   "id": "65a56796-54d4-49fa-9b62-d97e7bf5104e",
   "metadata": {},
   "source": [
    "2. Based on your observations, and any additional information you think relevant, suggest at least one pair of pages that should be consecutive and explain why you think so.  \n",
    "We suggest that you complete Question 4 before attempting this Question.  \n",
    "Marks will be awarded for a well-reasoned explanation, not for comedy (which is nevertheless appreciated) or out of sympathy (which is certainly felt).\n",
    "<div style=\"text-align: right\">(½ mark)</div>"
   ]
  },
  {
   "cell_type": "markdown",
   "id": "2c077cdb-513b-4eea-84dc-d5d44ff2a212",
   "metadata": {},
   "source": [
    "_Write your suggestion and explanation here._\n",
    "\n",
    "> Pages 41 and 93 should be consecutive. Page 41 **ends** with a poem/quotation while page 93 **starts** with one. Both their sections and stanzas follow the same **rhyming scheme** (all-Hall, light-tonight). Some other pages and their poems/quotations also have similar rhyming schemes, however pages 41 and 93 are particularly interesting as they reference the same character or subject (**M’Cullough**). Because of this, there is substantial evidence to believe that these poems/quotations are connected and therefore consecutive."
   ]
  },
  {
   "cell_type": "markdown",
   "id": "be1120e4-9b6b-42bc-8f3f-e3b8ecdb9b14",
   "metadata": {
    "tags": []
   },
   "source": [
    "----\n",
    "\n",
    "## ❔ Question 4 (4 marks)"
   ]
  },
  {
   "cell_type": "markdown",
   "id": "aa3e5744-682d-4742-b04a-05c25f23ece9",
   "metadata": {
    "tags": []
   },
   "source": [
    "### Background"
   ]
  },
  {
   "cell_type": "markdown",
   "id": "4f7aa7a3-8da9-42c1-9d9c-9c2e8666c42e",
   "metadata": {
    "tags": []
   },
   "source": [
    "* By now, if you have tried (even half-seriously) to work out the correct order of the pages in Cain's Jawbone,\n",
    "you will surely agree that this puzzle is _extremely_ difficult and not for the faint hearted\n",
    "    * Perhaps an _index_ will help?\n",
    "* Take a look at the two files in `../index`\n",
    "    * Examine both files as text\n",
    "    * Also open `../index/CainsJawbone.index.html` using the HTML viewer\n",
    "        * Click on the `Trust HTML` button at the top of the viewer to enable word filtering\n",
    "        * Then enter a word in the text box (e.g., `cull`) to find all pages containing that string\n",
    "* This question asks you to generate these indices yourself and store them in `./index`\n",
    "    * To help you, we have prepared a version of the text, one word per line, with page separators, in `../words/CainsJawbone.words.txt` to use in this question"
   ]
  },
  {
   "cell_type": "markdown",
   "id": "40c65a80-c679-4a44-9570-efa6887606c9",
   "metadata": {
    "tags": []
   },
   "source": [
    "### Q4.1 (2 marks)"
   ]
  },
  {
   "cell_type": "markdown",
   "id": "ff4872c8-5b97-4d0c-8fd0-94728585e474",
   "metadata": {},
   "source": [
    "* Demonstrate commands to transform the file `../words/CainsJawbone.words.txt` into an index which you will write to `./index/CainsJawbone.index`  \n",
    "    * We recommend using `awk` for its associative array capabilities  \n",
    "    * Each line of the index should have the form  \n",
    "`\"word\" | number of times \"word\" occurs |  number of pages \"word\" appears on | the page numbers that \"word\" appears on`\n",
    "    * The page numbers that \"word\" appears on should be space separated and in ascending order\n",
    "    * Use the format string `\"%-20s | %4d | %4d | %s\\n\"` with `printf` to print each line of the index\n",
    "    * Sort the index ignoring case\n",
    "    * Your output should match the index we have generated in `../index/CainsJawbone.index`, i.e.,\n",
    "        * `diff ./index/CainsJawbone.index ../index/CainsJawbone.index | wc -l` should return `0`\n",
    "<div style=\"text-align: right\">(2 marks)</div>"
   ]
  },
  {
   "cell_type": "code",
   "execution_count": 113,
   "id": "4872eeaa-0012-4606-8278-e35b1910c4ce",
   "metadata": {},
   "outputs": [],
   "source": [
    "# Write your solution here\n",
    "\n",
    "mkdir -p index\n",
    "awk '{words[$0]++;}\n",
    "END{for (var in words) \n",
    "printf \"%-20s | %4d | %4d\\n\", var, words[var], count}' ../words/CainsJawbone.words.txt | sort -f > ./index/CainsJawbone.index "
   ]
  },
  {
   "cell_type": "markdown",
   "id": "774e42f0-af13-4cb1-b376-6363b00f2c7d",
   "metadata": {
    "tags": []
   },
   "source": [
    "### Q4.2 (2 marks)"
   ]
  },
  {
   "cell_type": "markdown",
   "id": "dfcbd5ad-1a6f-4484-8da7-bb087fc873f8",
   "metadata": {},
   "source": [
    "* Demonstrate commands to transform the file `../index/CainsJawbone.index` into a searchable HTML index which you will write to `./index/CainsJawbone.index.html`\n",
    "    * Your output should match the index we have generated in `../index/CainsJawbone.index.html`, i.e.,\n",
    "        * `diff ./index/CainsJawbone.index.html ../index/CainsJawbone.index.html | wc -l` should return `0`\n",
    "    * Use a \"here document\" to write the header of the file up to and including the line `    <!-- END OF HEADER -->`\n",
    "    * Use commands to transform each line of `../index/CainsJawbone.index` into an HTML table row\n",
    "    * Use another \"here document\" to write the trailer of the file from the line `    <!-- BEGINNING OF TRAILER -->` to the end of the file\n",
    "* Mozilla provide [an excellent introduction on the format of HTML](https://developer.mozilla.org/en-US/docs/Learn/Getting_started_with_the_web/HTML_basics).\n",
    "    * The section, *Anatomy of an HTML document* is most useful. \n",
    "    * Also, see [HTML table basics](https://developer.mozilla.org/en-US/docs/Learn/HTML/Tables/Basics).\n",
    "<div style=\"text-align: right\">(2 marks)</div>"
   ]
  },
  {
   "cell_type": "code",
   "execution_count": null,
   "id": "92b74dd6-fa24-4dff-aa3a-eafc1592c04a",
   "metadata": {
    "tags": []
   },
   "outputs": [],
   "source": [
    "# Write your header here doc here"
   ]
  },
  {
   "cell_type": "code",
   "execution_count": null,
   "id": "3f9d3347-438f-4b2a-93cc-478f9268b617",
   "metadata": {
    "tags": []
   },
   "outputs": [],
   "source": [
    "# Write your commands to transform each line of ../index/CainsJawbone.index into an HTML table row here"
   ]
  },
  {
   "cell_type": "code",
   "execution_count": null,
   "id": "d209d7cf-4f8d-481d-acba-88178363beda",
   "metadata": {
    "tags": []
   },
   "outputs": [],
   "source": [
    "# Write your trailer here doc here"
   ]
  },
  {
   "cell_type": "markdown",
   "id": "8f950d90-93d3-41c8-afaf-e2236f1bff08",
   "metadata": {
    "tags": []
   },
   "source": [
    "----\n",
    "\n",
    "## ❔ Question 5 (3 marks)"
   ]
  },
  {
   "cell_type": "markdown",
   "id": "02229a43-4a29-4157-8f60-0f6afa491318",
   "metadata": {
    "tags": []
   },
   "source": [
    "### Background"
   ]
  },
  {
   "cell_type": "markdown",
   "id": "e5ff36dd-840d-4eba-afa2-71aae7f557a0",
   "metadata": {},
   "source": [
    "* After struggling to analyse Cain's Jawbone, you now feel very much in need of a holiday and prepare to book your accommodation via [Airbnb](https://www.Airbnb.com.au/a/stays/)\n",
    "    * Just as you are about to log on, your friend sends you some more holiday reading in the form of links to\n",
    "        * [Is Airbnb using an algorithm to ban users from the platform? ](https://www.choice.com.au/consumers-and-data/data-collection-and-use/how-your-data-is-used/articles/Airbnb-banning-users)\n",
    "        * [Who do you trust? How data is helping us decide](https://www.theguardian.com/technology/2017/oct/07/can-technology-help-you-pick-best-babysitter-trust-online-safety-checks)\n",
    "        * [DETERMINING TRUSTWORTHINESS AND COMPATIBILITY OF A PERSON, US Patent.](https://patentimages.storage.googleapis.com/cd/e8/8c/22a7a7066da433/US20190073597A1.pdf)\n",
    "        * [Airbnb's Privacy policy](https://www.Airbnb.com.au/help/article/3175/privacy-policy)\n",
    "        * [Airbnb's Antidiscrimination Policy](https://www.Airbnb.com.au/help/article/2867/antidiscrimination-policy)\n",
    "* Please refer to Shannon Vallor's _An Introduction to Data Ethics_ in developing your answers to the following questions\n",
    "    * Unless otherwise indicated, we will assume any quotations are taken from _An Introduction to Data Ethics_\n",
    "* In these questions, your marks will depend on\n",
    "    * How well we understand the points you are trying to communicate\n",
    "        * You may know what you are talking about, but if we can't understand your thinking, we cannot award full marks\n",
    "    * How well your responses demonstrate your understanding of relevant concepts\n",
    "        * While you may understand the relevant concepts, your understanding needs to be demonstrated in your answer for us to assess"
   ]
  },
  {
   "cell_type": "markdown",
   "id": "2d41e4a8-c399-43f6-a3b7-705809ae031f",
   "metadata": {
    "tags": []
   },
   "source": [
    "### Q5.1 (1 mark)"
   ]
  },
  {
   "cell_type": "markdown",
   "id": "7af044c0-b01c-4fef-8d38-33c85ab960f5",
   "metadata": {
    "jp-MarkdownHeadingCollapsed": true,
    "tags": []
   },
   "source": [
    "* In addition to Airbnb platform users (hosts and guests), employees and shareholders,\n",
    "    * describe another stakeholder (or group of stakeholders) in relation Airbnb's use of algorithmic decision making\n",
    "    * identify what may be at stake for them.\n",
    "<div style=\"text-align: right\">(1 mark)</div>"
   ]
  },
  {
   "cell_type": "markdown",
   "id": "9b70b8e4-9257-40af-956a-c1fed2bdb2cc",
   "metadata": {},
   "source": [
    "----\n",
    "\n",
    "<!--   -->\n",
    "\n",
    "> Another stakeholder that may be affected by this use of algorithmic decision making are the **external communities not currently customers of Airbnb**. While Airbnb might only be interested in making use of their own customers' data, the technological capabilities of this algorithm introduce the danger of **harmful misuse of data**. For example, the algorithm may be utilised to background check people irrelevant to Airbnb's business activities without their consent, which is a **major breach in privacy**. It may incentivise online criminals to access this algorithm. Furthermore, as Airbnb is a major name in global consumerism both in the travel market and in general, this may push the use of **similar algorithms toward other companies**. Both direct and indirect competitors may take inspiration from Airbnb and develop their own algorithms by which to background check their own customers within their own market. Similar to how it may affect the platform's existing users, the algorithm is a **major breach in ethical use of consumer data**. Not only is it seemingly being used without proper consumer **consent**, the algorithm is known to blindside or **discriminate certain groups** (such as sex workers) without **promoting values of transparency** towards those groups. Thus, external communities that may not be direct customers of Airbnb may be affected by the potential of growing use of algorithmic decision making in other markets, which may damage their online reputation for what are otherwise harmless acts of online expression.\n",
    "\n",
    "----"
   ]
  },
  {
   "cell_type": "markdown",
   "id": "8ccb93dd-7935-4779-984f-f313842aafb6",
   "metadata": {
    "tags": []
   },
   "source": [
    "### Q5.2 (1 mark)"
   ]
  },
  {
   "cell_type": "markdown",
   "id": "aa8ca138-770e-41db-8362-dc7d2c8eb50a",
   "metadata": {},
   "source": [
    "* Vallor outlines several ethically significant benefits and harms of data practices.\n",
    "* Choose one (or more) of these benefits or harms and explain how it relates to the Airbnb's use of a 'trustworthiness algorithm'\n",
    "<div style=\"text-align: right\">(1 mark)</div>"
   ]
  },
  {
   "cell_type": "markdown",
   "id": "2b78608e-42d1-4693-b89e-50f309a9500a",
   "metadata": {},
   "source": [
    "----\n",
    "\n",
    "<!--   -->\n",
    "\n",
    "\n",
    "> One such ethically significant harm of data practice that Vallor mentions is the harm to privacy & security. As mentioned within the [CHOICE article](https://www.choice.com.au/consumers-and-data/data-collection-and-use/how-your-data-is-used/articles/Airbnb-banning-users) as well as directly in [Airbnb's Privacy Policy](https://www.airbnb.com.au/help/article/3175/privacy-policy), they make use of certain third-party services in order to background check their own customers in the formation of their 'trustworthiness algorithm'. While the accessibility of their privacy and anti-discrimination policies may imply *some* sort of transparency in data practice, the article still shows that this is not enough. The data to create this algorithm is not collected through enough **informed consent**, with the users not having enough **autonomy** or control over exactly how much of their personal data is used. This already in itself causes internal reputational harm between the user and Airbnb, with the company preferring to serve customers with 'higher trustworthiness'. Lastly, the **data used may not stay confined to the digital context it was originally shared**. A user may have in the past made a post about something in jest or with a human-detectable level of sarcasm, yet the algorithm may not detect it that way and instead paints a harmless joke as a potential danger to Airbnb's reputation should that customer interact with their business. This is not only plain unfair, but also **ethically unjustifiably intrusive and harmful from a data practice perspective**.\n",
    "\n",
    "----"
   ]
  },
  {
   "cell_type": "markdown",
   "id": "3092f7b4-812e-4161-b8f1-53cadbe1bf5e",
   "metadata": {
    "tags": []
   },
   "source": [
    "### Q5.3 (1 mark)"
   ]
  },
  {
   "cell_type": "markdown",
   "id": "cdae079a-d657-47c6-a996-51b62e3388b2",
   "metadata": {
    "tags": []
   },
   "source": [
    "* Vallor presents three general ethical frameworks that might guide data practice.\n",
    "* Pick one of these and discuss Airbnb's use of algorithmic decision making from that standpoint.\n",
    "    * You should consider and describe how your chosen framework could be applied to this situation.\n",
    "    * Your aim is to demonstrate that you have thought critically about the framework and its application.\n",
    "<div style=\"text-align: right\">(1 mark)</div>"
   ]
  },
  {
   "cell_type": "markdown",
   "id": "e78bce0c-4567-4530-80ad-3a5026d4b8aa",
   "metadata": {},
   "source": [
    "----\n",
    "\n",
    "<!--   -->\n",
    "\n",
    "> One of the general ethical frameworks that Vallor presents is **consequentialist/utilitarian ethics**. This framework of ethics is based around the principle of the **greatest good**, in which we decide on actions based on which would result in the **greatest net sum of good (pleasure) for not only an individual but a group of people**. We can apply this way of thinking to Airbnb's trustworthiness algorithm. We can see from the [CHOICE article](https://www.airbnb.com.au/help/article/3175/privacy-policy) that this algorithm mostly positively affects Airbnb, but does not take into consideration the greater consumer base. Airbnb seems to be acting **within their own interests** failing to adequately market research whether their customers and other relevant stakeholders may be interested being subject to such an algorithm. Current customers that are deemed to be trustworthy by the algorithm may not be subject to a major change, possibly only a **minor gain** in positive experiences with hosts/guests. Those deemed to be untrustworthy however is then **completely blocked** from interacting whatsoever with Airbnb as a service. While this may not be a major subsect of Airbnb's consumer base, we have to ask ourselves whether or not the complete ban of these 'untrustworthy' customers is an **adequate exchange** for a minor gain for the rest of the consumer base. In other words, is there **a net sum of good** for the consumer base and other relevant stakeholders for Airbnb as a business?\n"
   ]
  },
  {
   "cell_type": "markdown",
   "id": "48a1eaee-8c4a-4236-af19-1171c69e30bb",
   "metadata": {
    "tags": []
   },
   "source": [
    "----\n",
    "\n",
    "## ❔ Question 6 (2 marks)"
   ]
  },
  {
   "cell_type": "markdown",
   "id": "a8d4fd56-a9e5-4677-bc61-7799cb08b71e",
   "metadata": {
    "tags": []
   },
   "source": [
    "### Background"
   ]
  },
  {
   "cell_type": "markdown",
   "id": "7fc8d63a-ac7d-4360-a0c1-a4e905ad7c12",
   "metadata": {
    "jp-MarkdownHeadingCollapsed": true,
    "tags": []
   },
   "source": [
    "* Being able to make sense of and follow instructions is an important skill as a data professional\n",
    "    * These questions assess your ability to do this by asking you to prepare and submit this Assessment in ways that enable the Teaching Team to mark your work as straightforwardly as possible\n",
    "    * While these questions may seem easy, only 23/79 students received full marks for this part of the Assessment in 2021"
   ]
  },
  {
   "cell_type": "markdown",
   "id": "e8e45f6f-2248-45c7-ae5b-60fe082af40b",
   "metadata": {
    "tags": []
   },
   "source": [
    "### Q6.1 (1 mark)"
   ]
  },
  {
   "cell_type": "markdown",
   "id": "8124fa46-8ca7-4a32-992d-34d1809cc794",
   "metadata": {},
   "source": [
    "* Ensure that you edit the header cell of this notebook as instructed, i.e.,\n",
    "    * Student name: ⚠ replace with your name\n",
    "    * Student number: ⚠ replace with your student number\n",
    "* Ensure that the Teaching Team will be able to fully execute your submission, e.g., \n",
    "    * Use only _relative_ file paths except for `/tmp`\n",
    "    * Ensure you can run this Notebook from start to finish a clean environment (see Instructions)\n",
    "* Ensure that your submission does not contain commands produce more output that you need to reasonably demonstrate their correct working \n",
    "    * If you need to demonstrate commands that produce lots of output, pipe the output through `head` or `tail` or `sed` (see [StackOverflow](https://stackoverflow.com/questions/83329/how-can-i-extract-a-predetermined-range-of-lines-from-a-text-file-on-unix))\n",
    "* We will deduct 1 mark if _any_ of these requirements are not satisfied\n",
    "<div style=\"text-align: right\">(1 mark)</div>"
   ]
  },
  {
   "cell_type": "markdown",
   "id": "03994c71-a5a0-4b66-a519-7cb98cc8bfca",
   "metadata": {
    "tags": []
   },
   "source": [
    "### Q6.2 (1 mark)"
   ]
  },
  {
   "cell_type": "markdown",
   "id": "2ab28e9e-fb0b-4937-98f4-1034ead7391b",
   "metadata": {},
   "source": [
    "* Your submission to Blackboard\n",
    "    * must be a single file named `Assessment01.zip`\n",
    "    * must produce only one directory and two files when unzipped:\n",
    "```\n",
    "Assessment01/Assessment01.ipynb\n",
    "Assessment01/Assessment01.html\n",
    "```\n",
    "* `Assessment01.ipynb`, is this file\n",
    "    * Ensure that you edit the header cell of this notebook as instructed, i.e.,\n",
    "        * Student name: ⚠ replace with your name\n",
    "        * Student number: ⚠ replace with your student number\n",
    "* `Assessment01.html`, the HTML rendered version of the fully executed notebook `Assessment01.ipynb`\n",
    "    * One way to generate this file is to\n",
    "        * Click on **Run** > **Restart Kernel and Run All Cells...**\n",
    "        * Click on **File** > **Export Notebook As...** > **HTML**\n",
    "        * Save the resulting `Assessment01.html` file to your computer\n",
    "        * Upload `Assessment01.html` into to this directory in `jupyter-oncampus`\n",
    "* You can produce the file `Assessment01.zip` via the JupyterHub file manager\n",
    "    * Make sure your working folder contains only the two files you want to zip\n",
    "    * Right click on one of the files you want to zip and select **Download Current Folder as an Archive**\n",
    "* We will deduct 1 mark if _any_ of these requirements is not satisfied\n",
    "<div style=\"text-align: right\">(1 mark)</div>"
   ]
  },
  {
   "cell_type": "markdown",
   "id": "586e6941-1424-4abe-b470-798392a61f18",
   "metadata": {},
   "source": [
    "<div style=\"text-align: center; font-size: 3em; color: green;\">The End.<br>👋</div>"
   ]
  }
 ],
 "metadata": {
  "kernelspec": {
   "display_name": "Bash",
   "language": "bash",
   "name": "bash"
  },
  "language_info": {
   "codemirror_mode": "shell",
   "file_extension": ".sh",
   "mimetype": "text/x-sh",
   "name": "bash"
  }
 },
 "nbformat": 4,
 "nbformat_minor": 5
}
